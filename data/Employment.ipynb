{
 "cells": [
  {
   "cell_type": "markdown",
   "metadata": {},
   "source": [
    "# EarthXHack\n",
    "## Leidy Buescher, Luiza Santos \n",
    "employment data:\n",
    "https://fred.stlouisfed.org/series/TXMANRQGSP\n",
    "https://www.dallasfed.org/research/economics/2020/0407\n",
    "https://www.bls.gov/regions/west/ca_sandiego_msa.htm"
   ]
  },
  {
   "cell_type": "code",
   "execution_count": 12,
   "metadata": {},
   "outputs": [],
   "source": [
    "# import libraries\n",
    "import requests\n",
    "import json\n",
    "from bs4 import BeautifulSoup\n",
    "import re\n",
    "import pandas as pd\n",
    "import numpy as np\n",
    "import matplotlib.pyplot as plt\n",
    "import seaborn as sns\n",
    "import sqlite3"
   ]
  },
  {
   "cell_type": "code",
   "execution_count": 32,
   "metadata": {},
   "outputs": [],
   "source": [
    "# Use beautiful soup to get the seriesid and name\n",
    "\n",
    "city_urls = 'https://www.bls.gov/regions/west/ca_sandiego_msa.htm'\n",
    "data_urls = {}\n",
    "request = requests.get(city_urls)\n",
    "soup = BeautifulSoup(request.text, 'html.parser')\n",
    "i = 0\n",
    "for link in soup.html.find_next('tbody').find_next('tbody').find_all('tr'):\n",
    "    try:\n",
    "        title = link.find_next('p').getText()\n",
    "        url = link.find_next('a').find_next('a').get('href')\n",
    "        data_urls[url] = title\n",
    "    except:\n",
    "        print('missing')\n",
    "#print(data_urls)\n",
    "# soup.html.find_next('tbody').find_next('tbody').find_next('tr').find_next('tr').find_next('p').getText()\n",
    "# soup.html.find_next('tbody').find_next('tbody').find_next('tr').find_next('tr').find_next('a').find_next('a').get('href')"
   ]
  },
  {
   "cell_type": "code",
   "execution_count": 33,
   "metadata": {},
   "outputs": [
    {
     "data": {
      "text/plain": [
       "{'LAUMT064174000000006': 'Civilian Labor Force(1)',\n",
       " 'LAUMT064174000000005': 'Employment(1)',\n",
       " 'LAUMT064174000000004': 'Unemployment(1)',\n",
       " 'LAUMT064174000000003': 'Unemployment Rate(3)',\n",
       " 'SMU06417400000000001': 'Total Nonfarm(4)',\n",
       " 'SMU06417401000000001': 'Mining and Logging(4)',\n",
       " 'SMU06417402000000001': 'Construction(4)',\n",
       " 'SMU06417403000000001': 'Manufacturing(4)',\n",
       " 'SMU06417404000000001': 'Trade, Transportation, and Utilities(4)',\n",
       " 'SMU06417405000000001': 'Information(4)',\n",
       " 'SMU06417405500000001': 'Financial Activities(4)',\n",
       " 'SMU06417406000000001': 'Professional and Business Services(4)',\n",
       " 'SMU06417406500000001': 'Education and Health Services(4)',\n",
       " 'SMU06417407000000001': 'Leisure and Hospitality(4)',\n",
       " 'SMU06417408000000001': 'Other Services(4)',\n",
       " 'SMU06417409000000001': 'Government(4)',\n",
       " 'CUURS49ESA0': 'CPI-U, All items(5)',\n",
       " 'CWURS49ESA0': 'CPI-W, All items(6)'}"
      ]
     },
     "execution_count": 33,
     "metadata": {},
     "output_type": "execute_result"
    }
   ],
   "source": [
    "#contin'd last step \n",
    "\n",
    "http = re.compile(r'^https://data.bls.gov/timeseries/[a-zA-Z0-9]+')\n",
    "code = re.compile(r'[a-zA-Z0-9]+')\n",
    "new_dict = {}\n",
    "for url,title in data_urls.items():\n",
    "    try:\n",
    "        complete_match = http.match(url).group()\n",
    "        if complete_match:\n",
    "            match = code.findall(complete_match)[-1]\n",
    "            new_dict[match] = title\n",
    "    except:\n",
    "        pass\n",
    "data_urls = new_dict\n",
    "data_urls"
   ]
  },
  {
   "cell_type": "code",
   "execution_count": 35,
   "metadata": {},
   "outputs": [],
   "source": [
    "# import data\n",
    "\n",
    "headers = {'Content-type': 'application/json'}\n",
    "data = json.dumps({\"seriesid\": [*data_urls.keys()],\"startyear\":\"2015\", \"endyear\":\"2020\"})\n",
    "p = requests.post('https://api.bls.gov/publicAPI/v2/timeseries/data/', data=data, headers=headers)\n",
    "json_data = json.loads(p.text)"
   ]
  },
  {
   "cell_type": "code",
   "execution_count": 132,
   "metadata": {},
   "outputs": [],
   "source": [
    "# change the data to dataframe \n",
    "\n",
    "df = pd.DataFrame()\n",
    "for serie in json_data['Results']['series']:\n",
    "    data = serie['data']\n",
    "    for item in data:\n",
    "        item['series'] = data_urls[serie['seriesID']]\n",
    "        if 'footnotes' in item.keys():\n",
    "            item.pop('footnotes')\n",
    "        if 'latest' in item.keys():\n",
    "            item.pop('latest')\n",
    "    df = df.append(data, ignore_index = True)"
   ]
  },
  {
   "cell_type": "code",
   "execution_count": 133,
   "metadata": {},
   "outputs": [],
   "source": [
    "# change the column formats\n",
    "# df.dtypes\n",
    "dates = [df.year[i] + df.period[i] for i in range(len(df))]\n",
    "datetimes = pd.to_datetime(times,format='%YM%m' )\n",
    "df.year = datetimes\n",
    "df = df.drop(['period','periodName'],axis=1)"
   ]
  },
  {
   "cell_type": "code",
   "execution_count": 134,
   "metadata": {},
   "outputs": [
    {
     "data": {
      "text/plain": [
       "year      datetime64[ns]\n",
       "value            float64\n",
       "series            object\n",
       "dtype: object"
      ]
     },
     "execution_count": 134,
     "metadata": {},
     "output_type": "execute_result"
    }
   ],
   "source": [
    "df.value = pd.to_numeric(df.value)\n",
    "df.series = df.series.astype('category')\n",
    "df.dtypes"
   ]
  },
  {
   "cell_type": "code",
   "execution_count": 162,
   "metadata": {},
   "outputs": [
    {
     "name": "stderr",
     "output_type": "stream",
     "text": [
      "C:\\ProgramData\\Anaconda3\\lib\\site-packages\\ipykernel_launcher.py:27: MatplotlibDeprecationWarning: Non-1D inputs to pie() are currently squeeze()d, but this behavior is deprecated since 3.1 and will be removed in 3.3; pass a 1D array instead.\n"
     ]
    },
    {
     "data": {
      "text/plain": [
       "(-1.1002726355835122,\n",
       " 1.1000130169571622,\n",
       " -1.108311324191775,\n",
       " 1.109649356336821)"
      ]
     },
     "execution_count": 162,
     "metadata": {},
     "output_type": "execute_result"
    },
    {
     "data": {
      "image/png": "[encoded data removed]",
      "text/plain": [
       "<Figure size 432x288 with 1 Axes>"
      ]
     },
     "metadata": {},
     "output_type": "display_data"
    }
   ],
   "source": [
    "# plot data\n",
    "%matplotlib inline\n",
    "\n",
    "# example\n",
    "# df[df.series.astype('str').str.startswith('Government')].value.describe()\n",
    "# df[df.series.astype('str').str.startswith('Government')].value.plot.density()\n",
    "\n",
    "# plot all\n",
    "# cat = df.series.unique()\n",
    "# for i in cat:\n",
    "#     df[df.series.astype('str').str.startswith(i)].value.describe()\n",
    "#     df[df.series.astype('str').str.startswith(i)].value.plot.density()\n",
    "\n",
    "## every one seems to have at least two distributions it could be generated by some change in time\n",
    "# two_years = df[df.year >= '2019-01-01']\n",
    "# current_series = two_years\n",
    "# for i in cat:\n",
    "#     current_series[current_series.series.astype('str').str.startswith(i)].value.describe()\n",
    "#     current_series[current_series.series.astype('str').str.startswith(i)].value.plot.density()\n",
    "#     plt.show()\n",
    "\n",
    "## it still seems to have two distributions, it is generated by something else\n",
    "# industries = two_years[(two_years.value > 100) & (two_years.value <1000)]\n",
    "\n",
    "# averages = industries.groupby('series').mean()\n",
    "# fig1, ax1 = plt.subplots()\n",
    "# ax1.pie(averages)\n",
    "# ax1.axis('equal')  # Equal aspect ratio ensures that pie is drawn as a circle.\n",
    "\n",
    "#sns.lineplot(x= 'year', y= 'value',hue='series',data=industries)"
   ]
  }
 ],
 "metadata": {
  "kernelspec": {
   "display_name": "Python 3.7.4 64-bit ('base': conda)",
   "language": "python",
   "name": "python37464bitbaseconda39bb18ad93264cd6b47dd96f9ea02d85"
  },
  "language_info": {
   "codemirror_mode": {
    "name": "ipython",
    "version": 3
   },
   "file_extension": ".py",
   "mimetype": "text/x-python",
   "name": "python",
   "nbconvert_exporter": "python",
   "pygments_lexer": "ipython3",
   "version": "3.7.4"
  }
 },
 "nbformat": 4,
 "nbformat_minor": 2
}
