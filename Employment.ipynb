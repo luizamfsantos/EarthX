{
 "cells": [
  {
   "cell_type": "markdown",
   "metadata": {},
   "source": [
    "# EarthXHack\n",
    "## Leidy Buescher, Luiza Santos \n",
    "employment data:\n",
    "https://fred.stlouisfed.org/series/TXMANRQGSP\n",
    "https://www.dallasfed.org/research/economics/2020/0407\n",
    "https://www.bls.gov/regions/west/ca_sandiego_msa.htm"
   ]
  },
  {
   "cell_type": "code",
   "execution_count": 71,
   "metadata": {},
   "outputs": [],
   "source": [
    "# import libraries\n",
    "import requests\n",
    "import json\n",
    "from bs4 import BeautifulSoup\n",
    "import pandas as pd\n",
    "import numpy as np\n",
    "import matplotlib.pyplot as plt\n",
    "import re"
   ]
  },
  {
   "cell_type": "code",
   "execution_count": 161,
   "metadata": {},
   "outputs": [],
   "source": [
    "# Use beautiful soup to get the seriesid and name\n",
    "\n",
    "city_urls = 'https://www.bls.gov/regions/west/ca_sandiego_msa.htm'\n",
    "data_urls = {}\n",
    "request = requests.get(city_urls)\n",
    "soup = BeautifulSoup(request.text, 'html.parser')\n",
    "i = 0\n",
    "for link in soup.html.find_next('tbody').find_next('tbody').find_all('tr'):\n",
    "    try:\n",
    "        title = link.find_next('p').getText()\n",
    "        url = link.find_next('a').find_next('a').get('href')\n",
    "        data_urls[url] = title\n",
    "    except:\n",
    "        print('missing')\n",
    "#print(data_urls)\n",
    "# soup.html.find_next('tbody').find_next('tbody').find_next('tr').find_next('tr').find_next('p').getText()\n",
    "# soup.html.find_next('tbody').find_next('tbody').find_next('tr').find_next('tr').find_next('a').find_next('a').get('href')"
   ]
  },
  {
   "cell_type": "code",
   "execution_count": 162,
   "metadata": {},
   "outputs": [],
   "source": [
    "#contin'd last step \n",
    "\n",
    "http = re.compile(r'^https://data.bls.gov/timeseries/[a-zA-Z0-9]+')\n",
    "code = re.compile(r'[a-zA-Z0-9]+')\n",
    "new_dict = {}\n",
    "for url,title in data_urls.items():\n",
    "    try:\n",
    "        complete_match = http.match(url).group()\n",
    "        if complete_match:\n",
    "            match = code.findall(complete_match)[-1]\n",
    "            new_dict[match] = title\n",
    "    except:\n",
    "        pass\n",
    "data_urls = new_dict"
   ]
  },
  {
   "cell_type": "code",
   "execution_count": 149,
   "metadata": {},
   "outputs": [],
   "source": [
    "# import data\n",
    "\n",
    "headers = {'Content-type': 'application/json'}\n",
    "data = json.dumps({\"seriesid\": [*data_urls.values()],\"startyear\":\"2015\", \"endyear\":\"2020\"})\n",
    "p = requests.post('https://api.bls.gov/publicAPI/v2/timeseries/data/', data=data, headers=headers)\n",
    "json_data = json.loads(p.text)"
   ]
  },
  {
   "cell_type": "code",
   "execution_count": 197,
   "metadata": {},
   "outputs": [],
   "source": [
    "# change the data to dataframe \n",
    "\n",
    "df = pd.DataFrame()\n",
    "for serie in json_data['Results']['series']:\n",
    "    data = serie['data']\n",
    "    for item in data:\n",
    "        item['series'] = data_urls[serie['seriesID']]\n",
    "        if 'footnotes' in item.keys():\n",
    "            item.pop('footnotes')\n",
    "        if 'latest' in item.keys():\n",
    "            item.pop('latest')\n",
    "    df = df.append(data, ignore_index = True)"
   ]
  },
  {
   "cell_type": "code",
   "execution_count": 219,
   "metadata": {},
   "outputs": [
    {
     "ename": "SyntaxError",
     "evalue": "invalid syntax (<ipython-input-219-35e23876b9b4>, line 4)",
     "output_type": "error",
     "traceback": [
      "\u001b[1;36m  File \u001b[1;32m\"<ipython-input-219-35e23876b9b4>\"\u001b[1;36m, line \u001b[1;32m4\u001b[0m\n\u001b[1;33m    year = as.np(test.year)\u001b[0m\n\u001b[1;37m            ^\u001b[0m\n\u001b[1;31mSyntaxError\u001b[0m\u001b[1;31m:\u001b[0m invalid syntax\n"
     ]
    }
   ],
   "source": [
    "# change the column formats\n",
    "test = df.copy()\n",
    "test.head()\n",
    "test.dtypes()"
   ]
  },
  {
   "cell_type": "code",
   "execution_count": null,
   "metadata": {},
   "outputs": [],
   "source": []
  }
 ],
 "metadata": {
  "kernelspec": {
   "display_name": "Python 3.7.4 64-bit ('base': conda)",
   "language": "python",
   "name": "python37464bitbaseconda39bb18ad93264cd6b47dd96f9ea02d85"
  },
  "language_info": {
   "codemirror_mode": {
    "name": "ipython",
    "version": 3
   },
   "file_extension": ".py",
   "mimetype": "text/x-python",
   "name": "python",
   "nbconvert_exporter": "python",
   "pygments_lexer": "ipython3",
   "version": "3.7.4"
  }
 },
 "nbformat": 4,
 "nbformat_minor": 2
}
